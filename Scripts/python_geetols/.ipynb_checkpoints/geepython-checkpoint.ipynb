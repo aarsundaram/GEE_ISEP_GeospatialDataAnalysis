{
 "metadata": {
  "language_info": {
   "codemirror_mode": {
    "name": "ipython",
    "version": 3
   },
   "file_extension": ".py",
   "mimetype": "text/x-python",
   "name": "python",
   "nbconvert_exporter": "python",
   "pygments_lexer": "ipython3",
   "version": "3.7.4-final"
  },
  "orig_nbformat": 2,
  "kernelspec": {
   "name": "python_defaultSpec_1600022641482",
   "display_name": "Python 3.7.4 64-bit ('jupyterlab-1.0.2': conda)"
  }
 },
 "nbformat": 4,
 "nbformat_minor": 2,
 "cells": [
  {
   "cell_type": "code",
   "execution_count": 2,
   "metadata": {},
   "outputs": [],
   "source": [
    "import ee\n",
    "ee.Initialize()\n",
    "import geetools\n",
    "import ipygee as ui"
   ]
  },
  {
   "cell_type": "code",
   "execution_count": null,
   "metadata": {},
   "outputs": [],
   "source": [
    "site = ee.Geometry.Point([-72, -42]).buffer(1000)"
   ]
  },
  {
   "cell_type": "code",
   "execution_count": null,
   "metadata": {},
   "outputs": [],
   "source": [
    "collection = ee.ImageCollection(\"LANDSAT/LC08/C01/T1_SR\").filterBounds(site).limit(5)"
   ]
  },
  {
   "cell_type": "code",
   "execution_count": null,
   "metadata": {},
   "outputs": [],
   "source": [
    "bands = ['B2', 'B3', 'B4']\n",
    "scale = 30\n",
    "name_pattern = '{sat}_{system_date}_{WRS_PATH:%d}-{WRS_ROW:%d}'\n",
    "date_pattern = 'ddMMMy' # dd: day, MMM: month (JAN), y: year\n",
    "folder = 'MYFOLDER'\n",
    "data_type = 'uint32'\n",
    "extra = dict(sat='L8SR')\n",
    "region = site"
   ]
  },
  {
   "cell_type": "code",
   "execution_count": null,
   "metadata": {},
   "outputs": [],
   "source": [
    "tasks = geetools.batch.Export.imagecollection.toDrive(\n",
    "            collection=collection,\n",
    "            folder=folder,\n",
    "            region=site,\n",
    "            namePattern=name_pattern,\n",
    "            scale=scale,\n",
    "            dataType=data_type,\n",
    "            datePattern=date_pattern,\n",
    "            extra=extra,\n",
    "            verbose=True,\n",
    "            maxPixels=int(1e13)\n",
    "        )"
   ]
  }
 ]
}